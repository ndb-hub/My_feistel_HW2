{
  "nbformat": 4,
  "nbformat_minor": 0,
  "metadata": {
    "colab": {
      "provenance": []
    },
    "kernelspec": {
      "name": "python3",
      "display_name": "Python 3"
    },
    "language_info": {
      "name": "python"
    }
  },
  "cells": [
    {
      "cell_type": "code",
      "source": [
        "pip install bitstring"
      ],
      "metadata": {
        "colab": {
          "base_uri": "https://localhost:8080/"
        },
        "id": "LELuNAXx7YMs",
        "outputId": "747c6c0f-d874-4c20-9280-deefb56a4073"
      },
      "execution_count": 2,
      "outputs": [
        {
          "output_type": "stream",
          "name": "stdout",
          "text": [
            "Collecting bitstring\n",
            "  Downloading bitstring-4.2.3-py3-none-any.whl (71 kB)\n",
            "\u001b[2K     \u001b[90m━━━━━━━━━━━━━━━━━━━━━━━━━━━━━━━━━━━━━━━━\u001b[0m \u001b[32m71.7/71.7 kB\u001b[0m \u001b[31m748.9 kB/s\u001b[0m eta \u001b[36m0:00:00\u001b[0m\n",
            "\u001b[?25hCollecting bitarray<3.0.0,>=2.9.0 (from bitstring)\n",
            "  Downloading bitarray-2.9.2-cp310-cp310-manylinux_2_17_x86_64.manylinux2014_x86_64.whl (288 kB)\n",
            "\u001b[2K     \u001b[90m━━━━━━━━━━━━━━━━━━━━━━━━━━━━━━━━━━━━━━━━\u001b[0m \u001b[32m288.3/288.3 kB\u001b[0m \u001b[31m3.3 MB/s\u001b[0m eta \u001b[36m0:00:00\u001b[0m\n",
            "\u001b[?25hInstalling collected packages: bitarray, bitstring\n",
            "Successfully installed bitarray-2.9.2 bitstring-4.2.3\n"
          ]
        }
      ]
    },
    {
      "cell_type": "code",
      "execution_count": 7,
      "metadata": {
        "colab": {
          "base_uri": "https://localhost:8080/"
        },
        "id": "O6-FmY5-7UX0",
        "outputId": "51d6e357-cf2c-4b64-9d2f-faec029a8f21"
      },
      "outputs": [
        {
          "output_type": "stream",
          "name": "stdout",
          "text": [
            "Padded Key: 1010101010101010101010101010101010101010101010101010101010101010\n",
            "Round Subkeys: ['10101010', '10101010', '10101010', '10101010', '10101010', '10101010', '10101010', '10101010']\n",
            "Encrypted Binary: 01100110011001110100111001100001\n",
            "Decrypted Binary: 01101110011000010111001001100111\n",
            "Success: Original plaintext matches decrypted text\n",
            "Decrypted Message: narg\n"
          ]
        }
      ],
      "source": [
        "from bitstring import BitArray\n",
        "\n",
        "block_size = 32\n",
        "half_block_size = block_size // 2\n",
        "\n",
        "CUSTOM_EXPANSION_TABLE = [\n",
        "    2, 1, 4, 3, 7, 8, 9, 6,10, 5, 12, 11, 14, 13, 16, 15,\n",
        "    1, 2, 3, 4, 5, 6, 7, 8,9, 10, 11, 12, 13, 14, 15, 16\n",
        "]\n",
        "\n",
        "CUSTOM_PERMUTATION_TABLE = [\n",
        "    2, 1, 4, 3, 7, 8, 9, 6,10, 5, 12, 11, 14, 13, 16, 15,\n",
        "    20, 18, 17, 19, 24, 22, 21, 23,28, 26, 25, 27, 32, 30, 29, 31\n",
        "]\n",
        "\n",
        "\n",
        "\n",
        "def string_to_binary(input_string):\n",
        "    return ''.join(format(ord(char), '08b') for char in input_string)\n",
        "\n",
        "\n",
        "def binary_to_string(input_binary):\n",
        "    return ''.join(chr(int(input_binary[i:i+8], 2)) for i in range(0, len(input_binary), 8))\n",
        "\n",
        "def permute(block, table):\n",
        "    # Ensure block is at least as long as the highest index in table\n",
        "    if len(block) < max(table):\n",
        "        block = block.ljust(max(table), '0')\n",
        "    return ''.join(block[i - 1] for i in table)\n",
        "\n",
        "def split(block):\n",
        "    half_length = len(block) // 2\n",
        "    return block[:half_length], block[half_length:]\n",
        "\n",
        "def combine(left, right):\n",
        "    return left + right\n",
        "\n",
        "def expand(block, table):\n",
        "    return ''.join(block[i - 1] for i in table)\n",
        "\n",
        "def feistelNetwork(block, keys):\n",
        "    left, right = split(block)\n",
        "    for round_key in keys:\n",
        "        expanded_right = expand(right, CUSTOM_EXPANSION_TABLE)\n",
        "        mixed = ''.join(str(int(a) ^ int(b)) for a,b in zip(expanded_right , round_key))\n",
        "        permuted_mixed = permute(mixed , CUSTOM_PERMUTATION_TABLE)\n",
        "        new_right = ''.join(str(int(a) ^ int(b)) for a,b in zip(left , permuted_mixed))\n",
        "        left = right\n",
        "        right = new_right\n",
        "    return combine(right , left)\n",
        "\n",
        "def pad_key_to_64_bits(key):\n",
        "    return key.rjust(64 , '0')\n",
        "\n",
        "def generate_round_subkeys(key , num_rounds):\n",
        "    subkey_length = len(key) // num_rounds\n",
        "    return [key[i * subkey_length:(i +1) * subkey_length] for i in range(num_rounds)]\n",
        "\n",
        "def encrypt(plaintext, keys):\n",
        "    return feistelNetwork(plaintext, keys)\n",
        "\n",
        "def decrypt(ciphertext, keys):\n",
        "    reversed_keys = keys[::-1]\n",
        "    return feistelNetwork(ciphertext, reversed_keys)\n",
        "\n",
        "# Example:\n",
        "key = '1010101010101010101010101010101010101010101010101010101010101010' # 64-bit key\n",
        "padded_key = pad_key_to_64_bits(key)\n",
        "print('Padded Key:' , padded_key)\n",
        "round_subkeys = generate_round_subkeys(padded_key ,8)\n",
        "print('Round Subkeys:' , round_subkeys)\n",
        "plaintext = 'narges'\n",
        "# Convert plaintext to binary and ensure it's the correct size (block_size bits)\n",
        "binary_plaintext = string_to_binary(plaintext).ljust(block_size , '0')[:block_size]\n",
        "encrypted_binary = encrypt(binary_plaintext , round_subkeys)\n",
        "print('Encrypted Binary:' , encrypted_binary)\n",
        "decrypted_binary = decrypt(encrypted_binary , round_subkeys)\n",
        "print('Decrypted Binary:' , decrypted_binary)\n",
        "# Check if original binary plaintext matches decrypted binary\n",
        "if binary_plaintext == decrypted_binary:\n",
        "    print('Success: Original plaintext matches decrypted text')\n",
        "else:\n",
        "    print('Error: Original plaintext does not match decrypted text')\n",
        "\n",
        "decrypted_message = binary_to_string(decrypted_binary)\n",
        "print('Decrypted Message:', decrypted_message)\n"
      ]
    },
    {
      "cell_type": "code",
      "source": [
        "from bitstring import BitArray\n",
        "\n",
        "block_size = 32\n",
        "half_block_size = block_size // 2\n",
        "\n",
        "CUSTOM_EXPANSION_TABLE = [\n",
        "    2, 1, 4, 3, 7, 8, 9, 6,10, 5, 12, 11, 14, 13, 16, 15,\n",
        "    1, 2, 3, 4, 5, 6, 7, 8,9, 10, 11, 12, 13, 14, 15, 16\n",
        "]\n",
        "\n",
        "CUSTOM_PERMUTATION_TABLE = [\n",
        "    2, 1, 4, 3, 7, 8, 9, 6,10, 5, 12, 11, 14, 13, 16, 15,\n",
        "    20, 18, 17, 19, 24, 22, 21, 23,28, 26, 25, 27, 32, 30, 29, 31\n",
        "]\n",
        "\n",
        "def string_to_binary(input_string):\n",
        "    return ''.join(format(ord(char), '08b') for char in input_string)\n",
        "\n",
        "def binary_to_string(input_binary):\n",
        "    return ''.join(chr(int(input_binary[i:i+8], 2)) for i in range(0, len(input_binary), 8))\n",
        "\n",
        "def permute(block, table):\n",
        "    # Ensure block is at least as long as the highest index in table\n",
        "    if len(block) < max(table):\n",
        "        block = block.ljust(max(table), '0')\n",
        "    return ''.join(block[i - 1] for i in table)\n",
        "\n",
        "def split(block):\n",
        "    half_length = len(block) // 2\n",
        "    return block[:half_length], block[half_length:]\n",
        "\n",
        "def shift(bits, n):\n",
        "    return bits[n:] + bits[:n]\n",
        "\n",
        "def combine(left, right):\n",
        "    return left + right\n",
        "\n",
        "def expand(block, table):\n",
        "    return ''.join(block[i - 1] for i in table)\n",
        "\n",
        "def feistelNetwork(block, keys):\n",
        "    left, right = split(block)\n",
        "    for round_key in keys:\n",
        "        expanded_right = expand(right, CUSTOM_EXPANSION_TABLE)\n",
        "        mixed = ''.join(str(int(a) ^ int(b)) for a,b in zip(expanded_right , round_key))\n",
        "        permuted_mixed = permute(mixed , CUSTOM_PERMUTATION_TABLE)\n",
        "        new_right = ''.join(str(int(a) ^ int(b)) for a,b in zip(left , permuted_mixed))\n",
        "        left = right\n",
        "        right = new_right\n",
        "    return combine(right , left)\n",
        "\n",
        "def pad_key_to_64_bits(key):\n",
        "    return key.rjust(64 , '0')\n",
        "\n",
        "def generate_round_subkeys(key , num_rounds):\n",
        "    subkey_length = len(key) // num_rounds\n",
        "    return [key[i * subkey_length:(i +1) * subkey_length] for i in range(num_rounds)]\n",
        "def encrypt(plaintext, keys):\n",
        "    return feistelNetwork(plaintext, keys)\n",
        "\n",
        "def decrypt(ciphertext, keys):\n",
        "    reversed_keys = keys[::-1]\n",
        "    return feistelNetwork(ciphertext, reversed_keys)\n",
        "def process_in_blocks(text, block_size, process_function):\n",
        "    # Pad text to be a multiple of block_size\n",
        "    padded_text = text.ljust((len(text) + block_size - 1) // block_size * block_size, '0')\n",
        "    result = ''\n",
        "    for i in range(0, len(padded_text), block_size):\n",
        "        block = padded_text[i:i+block_size]\n",
        "        result += process_function(block)\n",
        "    return result\n",
        "\n",
        "\n",
        "# Example:\n",
        "key = '1010101010101010101010101010101010101010101010101010101010101010' # 64-bit key\n",
        "\n",
        "padded_key = pad_key_to_64_bits(key)\n",
        "print('Padded Key:' , padded_key)\n",
        "\n",
        "round_subkeys = generate_round_subkeys(padded_key ,8)\n",
        "print('Round Subkeys:' , round_subkeys)\n",
        "\n",
        "\n",
        "plaintext = 'nargesdb'\n",
        "# Convert plaintext to binary\n",
        "binary_plaintext = string_to_binary(plaintext)\n",
        "# Process binary plaintext in blocks and encrypt\n",
        "encrypted_binary = process_in_blocks(binary_plaintext, block_size, lambda block: encrypt(block.ljust(block_size, '0')[:block_size], round_subkeys))\n",
        "print('Encrypted Binary:', encrypted_binary)\n",
        "# Process encrypted binary in blocks and decrypt\n",
        "decrypted_binary = process_in_blocks(encrypted_binary, block_size, lambda block: decrypt(block.ljust(block_size, '0')[:block_size], round_subkeys))\n",
        "print('Decrypted Binary:', decrypted_binary)\n",
        "# Convert decrypted binary back to string\n",
        "decrypted_message = binary_to_string(decrypted_binary)\n",
        "print('Decrypted Message:', decrypted_message)\n",
        "# Check if original binary plaintext matches decrypted binary\n",
        "if binary_plaintext == decrypted_binary:\n",
        "    print('Success: Original plaintext matches decrypted text')\n",
        "else:\n",
        "    print('Error: Original plaintext does not match decrypted text')"
      ],
      "metadata": {
        "colab": {
          "base_uri": "https://localhost:8080/"
        },
        "id": "ic3KIDbh90nx",
        "outputId": "d712f154-9b11-4f8b-b55f-e663d45b6991"
      },
      "execution_count": 3,
      "outputs": [
        {
          "output_type": "stream",
          "name": "stdout",
          "text": [
            "Padded Key: 1010101010101010101010101010101010101010101010101010101010101010\n",
            "Round Subkeys: ['10101010', '10101010', '10101010', '10101010', '10101010', '10101010', '10101010', '10101010']\n",
            "Encrypted Binary: 0110011001100111010011100110000101100101011000100101000101110011\n",
            "Decrypted Binary: 0110111001100001011100100110011101100101011100110110010001100010\n",
            "Decrypted Message: nargesdb\n",
            "Success: Original plaintext matches decrypted text\n"
          ]
        }
      ]
    },
    {
      "cell_type": "code",
      "source": [],
      "metadata": {
        "id": "NEmN-Ba4othH"
      },
      "execution_count": null,
      "outputs": []
    }
  ]
}